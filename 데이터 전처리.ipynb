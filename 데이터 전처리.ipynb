{
 "cells": [
  {
   "cell_type": "code",
   "execution_count": 70,
   "id": "42f918bd",
   "metadata": {},
   "outputs": [],
   "source": [
    "import pandas as pd\n",
    "import numpy as np\n",
    "import matplotlib.pyplot as plt\n",
    "from scipy import interpolate"
   ]
  },
  {
   "cell_type": "code",
   "execution_count": 71,
   "id": "2d1b1069",
   "metadata": {},
   "outputs": [],
   "source": [
    "df = pd.read_csv(\"./1year_test_data.csv\")"
   ]
  },
  {
   "cell_type": "code",
   "execution_count": 72,
   "id": "f1b943f6",
   "metadata": {},
   "outputs": [
    {
     "data": {
      "text/html": [
       "<div>\n",
       "<style scoped>\n",
       "    .dataframe tbody tr th:only-of-type {\n",
       "        vertical-align: middle;\n",
       "    }\n",
       "\n",
       "    .dataframe tbody tr th {\n",
       "        vertical-align: top;\n",
       "    }\n",
       "\n",
       "    .dataframe thead th {\n",
       "        text-align: right;\n",
       "    }\n",
       "</style>\n",
       "<table border=\"1\" class=\"dataframe\">\n",
       "  <thead>\n",
       "    <tr style=\"text-align: right;\">\n",
       "      <th></th>\n",
       "      <th>지점</th>\n",
       "      <th>지점명</th>\n",
       "      <th>일시</th>\n",
       "      <th>기온(°C)</th>\n",
       "      <th>기온 QC플래그</th>\n",
       "      <th>강수량(mm)</th>\n",
       "      <th>강수량 QC플래그</th>\n",
       "      <th>풍속(m/s)</th>\n",
       "      <th>풍속 QC플래그</th>\n",
       "      <th>습도(%)</th>\n",
       "      <th>...</th>\n",
       "      <th>이슬점온도(°C)</th>\n",
       "      <th>현지기압(hPa)</th>\n",
       "      <th>현지기압 QC플래그</th>\n",
       "      <th>일조(hr)</th>\n",
       "      <th>일조 QC플래그</th>\n",
       "      <th>3시간신적설(cm)</th>\n",
       "      <th>전운량(10분위)</th>\n",
       "      <th>시정(10m)</th>\n",
       "      <th>지면온도(°C)</th>\n",
       "      <th>지면온도 QC플래그</th>\n",
       "    </tr>\n",
       "  </thead>\n",
       "  <tbody>\n",
       "    <tr>\n",
       "      <th>0</th>\n",
       "      <td>114</td>\n",
       "      <td>원주</td>\n",
       "      <td>2022-02-01 0:00</td>\n",
       "      <td>-0.2</td>\n",
       "      <td>NaN</td>\n",
       "      <td>0.0</td>\n",
       "      <td>NaN</td>\n",
       "      <td>0.7</td>\n",
       "      <td>NaN</td>\n",
       "      <td>74.0</td>\n",
       "      <td>...</td>\n",
       "      <td>-4.2</td>\n",
       "      <td>1003.9</td>\n",
       "      <td>NaN</td>\n",
       "      <td>NaN</td>\n",
       "      <td>9.0</td>\n",
       "      <td>NaN</td>\n",
       "      <td>9.0</td>\n",
       "      <td>493.0</td>\n",
       "      <td>-1.6</td>\n",
       "      <td>NaN</td>\n",
       "    </tr>\n",
       "    <tr>\n",
       "      <th>1</th>\n",
       "      <td>114</td>\n",
       "      <td>원주</td>\n",
       "      <td>2022-02-01 1:00</td>\n",
       "      <td>-1.9</td>\n",
       "      <td>NaN</td>\n",
       "      <td>NaN</td>\n",
       "      <td>9.0</td>\n",
       "      <td>0.3</td>\n",
       "      <td>NaN</td>\n",
       "      <td>85.0</td>\n",
       "      <td>...</td>\n",
       "      <td>-4.0</td>\n",
       "      <td>1004.0</td>\n",
       "      <td>NaN</td>\n",
       "      <td>NaN</td>\n",
       "      <td>9.0</td>\n",
       "      <td>NaN</td>\n",
       "      <td>9.0</td>\n",
       "      <td>202.0</td>\n",
       "      <td>-1.4</td>\n",
       "      <td>NaN</td>\n",
       "    </tr>\n",
       "    <tr>\n",
       "      <th>2</th>\n",
       "      <td>114</td>\n",
       "      <td>원주</td>\n",
       "      <td>2022-02-01 2:00</td>\n",
       "      <td>-1.7</td>\n",
       "      <td>NaN</td>\n",
       "      <td>NaN</td>\n",
       "      <td>9.0</td>\n",
       "      <td>0.7</td>\n",
       "      <td>NaN</td>\n",
       "      <td>87.0</td>\n",
       "      <td>...</td>\n",
       "      <td>-3.5</td>\n",
       "      <td>1004.0</td>\n",
       "      <td>NaN</td>\n",
       "      <td>NaN</td>\n",
       "      <td>9.0</td>\n",
       "      <td>NaN</td>\n",
       "      <td>9.0</td>\n",
       "      <td>477.0</td>\n",
       "      <td>-1.7</td>\n",
       "      <td>NaN</td>\n",
       "    </tr>\n",
       "    <tr>\n",
       "      <th>3</th>\n",
       "      <td>114</td>\n",
       "      <td>원주</td>\n",
       "      <td>2022-02-01 3:00</td>\n",
       "      <td>-0.4</td>\n",
       "      <td>NaN</td>\n",
       "      <td>0.0</td>\n",
       "      <td>NaN</td>\n",
       "      <td>0.4</td>\n",
       "      <td>NaN</td>\n",
       "      <td>86.0</td>\n",
       "      <td>...</td>\n",
       "      <td>-2.4</td>\n",
       "      <td>1003.8</td>\n",
       "      <td>NaN</td>\n",
       "      <td>NaN</td>\n",
       "      <td>9.0</td>\n",
       "      <td>NaN</td>\n",
       "      <td>9.0</td>\n",
       "      <td>602.0</td>\n",
       "      <td>-1.9</td>\n",
       "      <td>NaN</td>\n",
       "    </tr>\n",
       "    <tr>\n",
       "      <th>4</th>\n",
       "      <td>114</td>\n",
       "      <td>원주</td>\n",
       "      <td>2022-02-01 4:00</td>\n",
       "      <td>-0.8</td>\n",
       "      <td>NaN</td>\n",
       "      <td>NaN</td>\n",
       "      <td>9.0</td>\n",
       "      <td>0.7</td>\n",
       "      <td>NaN</td>\n",
       "      <td>82.0</td>\n",
       "      <td>...</td>\n",
       "      <td>-3.4</td>\n",
       "      <td>1003.1</td>\n",
       "      <td>NaN</td>\n",
       "      <td>NaN</td>\n",
       "      <td>9.0</td>\n",
       "      <td>NaN</td>\n",
       "      <td>9.0</td>\n",
       "      <td>764.0</td>\n",
       "      <td>-3.1</td>\n",
       "      <td>NaN</td>\n",
       "    </tr>\n",
       "  </tbody>\n",
       "</table>\n",
       "<p>5 rows × 21 columns</p>\n",
       "</div>"
      ],
      "text/plain": [
       "    지점 지점명               일시  기온(°C)  기온 QC플래그  강수량(mm)  강수량 QC플래그  풍속(m/s)  \\\n",
       "0  114  원주  2022-02-01 0:00    -0.2       NaN      0.0        NaN      0.7   \n",
       "1  114  원주  2022-02-01 1:00    -1.9       NaN      NaN        9.0      0.3   \n",
       "2  114  원주  2022-02-01 2:00    -1.7       NaN      NaN        9.0      0.7   \n",
       "3  114  원주  2022-02-01 3:00    -0.4       NaN      0.0        NaN      0.4   \n",
       "4  114  원주  2022-02-01 4:00    -0.8       NaN      NaN        9.0      0.7   \n",
       "\n",
       "   풍속 QC플래그  습도(%)  ...  이슬점온도(°C)  현지기압(hPa)  현지기압 QC플래그  일조(hr)  일조 QC플래그  \\\n",
       "0       NaN   74.0  ...       -4.2     1003.9         NaN     NaN       9.0   \n",
       "1       NaN   85.0  ...       -4.0     1004.0         NaN     NaN       9.0   \n",
       "2       NaN   87.0  ...       -3.5     1004.0         NaN     NaN       9.0   \n",
       "3       NaN   86.0  ...       -2.4     1003.8         NaN     NaN       9.0   \n",
       "4       NaN   82.0  ...       -3.4     1003.1         NaN     NaN       9.0   \n",
       "\n",
       "   3시간신적설(cm)  전운량(10분위)  시정(10m)  지면온도(°C)  지면온도 QC플래그  \n",
       "0         NaN        9.0    493.0      -1.6         NaN  \n",
       "1         NaN        9.0    202.0      -1.4         NaN  \n",
       "2         NaN        9.0    477.0      -1.7         NaN  \n",
       "3         NaN        9.0    602.0      -1.9         NaN  \n",
       "4         NaN        9.0    764.0      -3.1         NaN  \n",
       "\n",
       "[5 rows x 21 columns]"
      ]
     },
     "execution_count": 72,
     "metadata": {},
     "output_type": "execute_result"
    }
   ],
   "source": [
    "df.head()"
   ]
  },
  {
   "cell_type": "code",
   "execution_count": 73,
   "id": "068d1119",
   "metadata": {},
   "outputs": [],
   "source": [
    "nan_counts = df.groupby('지점').apply(lambda x: x.isna().sum())\n",
    "pd.DataFrame(nan_counts).to_csv(\"na.csv\")"
   ]
  },
  {
   "cell_type": "code",
   "execution_count": 74,
   "id": "04bf5d92",
   "metadata": {},
   "outputs": [
    {
     "data": {
      "text/html": [
       "<div>\n",
       "<style scoped>\n",
       "    .dataframe tbody tr th:only-of-type {\n",
       "        vertical-align: middle;\n",
       "    }\n",
       "\n",
       "    .dataframe tbody tr th {\n",
       "        vertical-align: top;\n",
       "    }\n",
       "\n",
       "    .dataframe thead th {\n",
       "        text-align: right;\n",
       "    }\n",
       "</style>\n",
       "<table border=\"1\" class=\"dataframe\">\n",
       "  <thead>\n",
       "    <tr style=\"text-align: right;\">\n",
       "      <th></th>\n",
       "      <th>지점</th>\n",
       "      <th>기온(°C)</th>\n",
       "      <th>기온 QC플래그</th>\n",
       "      <th>강수량(mm)</th>\n",
       "      <th>강수량 QC플래그</th>\n",
       "      <th>풍속(m/s)</th>\n",
       "      <th>풍속 QC플래그</th>\n",
       "      <th>습도(%)</th>\n",
       "      <th>습도 QC플래그</th>\n",
       "      <th>이슬점온도(°C)</th>\n",
       "      <th>현지기압(hPa)</th>\n",
       "      <th>현지기압 QC플래그</th>\n",
       "      <th>일조(hr)</th>\n",
       "      <th>일조 QC플래그</th>\n",
       "      <th>3시간신적설(cm)</th>\n",
       "      <th>전운량(10분위)</th>\n",
       "      <th>시정(10m)</th>\n",
       "      <th>지면온도(°C)</th>\n",
       "      <th>지면온도 QC플래그</th>\n",
       "    </tr>\n",
       "  </thead>\n",
       "  <tbody>\n",
       "    <tr>\n",
       "      <th>count</th>\n",
       "      <td>87600.00000</td>\n",
       "      <td>87583.000000</td>\n",
       "      <td>17.0</td>\n",
       "      <td>7610.000000</td>\n",
       "      <td>15519.0</td>\n",
       "      <td>87459.000000</td>\n",
       "      <td>106.0</td>\n",
       "      <td>87530.000000</td>\n",
       "      <td>70.0</td>\n",
       "      <td>87536.000000</td>\n",
       "      <td>87586.000000</td>\n",
       "      <td>14.0</td>\n",
       "      <td>47891.000000</td>\n",
       "      <td>39670.00000</td>\n",
       "      <td>186.000000</td>\n",
       "      <td>87411.000000</td>\n",
       "      <td>87202.000000</td>\n",
       "      <td>87583.000000</td>\n",
       "      <td>313.000000</td>\n",
       "    </tr>\n",
       "    <tr>\n",
       "      <th>mean</th>\n",
       "      <td>198.70000</td>\n",
       "      <td>13.234856</td>\n",
       "      <td>9.0</td>\n",
       "      <td>1.457753</td>\n",
       "      <td>9.0</td>\n",
       "      <td>1.521800</td>\n",
       "      <td>9.0</td>\n",
       "      <td>68.695166</td>\n",
       "      <td>9.0</td>\n",
       "      <td>6.782760</td>\n",
       "      <td>1006.184733</td>\n",
       "      <td>9.0</td>\n",
       "      <td>0.490593</td>\n",
       "      <td>8.99879</td>\n",
       "      <td>0.594086</td>\n",
       "      <td>5.165929</td>\n",
       "      <td>2383.667404</td>\n",
       "      <td>15.719229</td>\n",
       "      <td>0.488818</td>\n",
       "    </tr>\n",
       "    <tr>\n",
       "      <th>std</th>\n",
       "      <td>53.31081</td>\n",
       "      <td>11.047893</td>\n",
       "      <td>0.0</td>\n",
       "      <td>3.464392</td>\n",
       "      <td>0.0</td>\n",
       "      <td>1.245203</td>\n",
       "      <td>0.0</td>\n",
       "      <td>21.373931</td>\n",
       "      <td>0.0</td>\n",
       "      <td>12.069147</td>\n",
       "      <td>10.630441</td>\n",
       "      <td>0.0</td>\n",
       "      <td>0.444182</td>\n",
       "      <td>0.09838</td>\n",
       "      <td>1.047941</td>\n",
       "      <td>3.938472</td>\n",
       "      <td>1503.426741</td>\n",
       "      <td>12.704338</td>\n",
       "      <td>2.042976</td>\n",
       "    </tr>\n",
       "    <tr>\n",
       "      <th>min</th>\n",
       "      <td>114.00000</td>\n",
       "      <td>-19.100000</td>\n",
       "      <td>9.0</td>\n",
       "      <td>0.000000</td>\n",
       "      <td>9.0</td>\n",
       "      <td>0.000000</td>\n",
       "      <td>9.0</td>\n",
       "      <td>2.000000</td>\n",
       "      <td>9.0</td>\n",
       "      <td>-37.400000</td>\n",
       "      <td>964.200000</td>\n",
       "      <td>9.0</td>\n",
       "      <td>0.000000</td>\n",
       "      <td>1.00000</td>\n",
       "      <td>0.000000</td>\n",
       "      <td>0.000000</td>\n",
       "      <td>1.000000</td>\n",
       "      <td>-15.500000</td>\n",
       "      <td>0.000000</td>\n",
       "    </tr>\n",
       "    <tr>\n",
       "      <th>25%</th>\n",
       "      <td>146.00000</td>\n",
       "      <td>4.500000</td>\n",
       "      <td>9.0</td>\n",
       "      <td>0.000000</td>\n",
       "      <td>9.0</td>\n",
       "      <td>0.600000</td>\n",
       "      <td>9.0</td>\n",
       "      <td>54.000000</td>\n",
       "      <td>9.0</td>\n",
       "      <td>-2.400000</td>\n",
       "      <td>999.000000</td>\n",
       "      <td>9.0</td>\n",
       "      <td>0.000000</td>\n",
       "      <td>9.00000</td>\n",
       "      <td>0.000000</td>\n",
       "      <td>0.000000</td>\n",
       "      <td>1293.000000</td>\n",
       "      <td>4.800000</td>\n",
       "      <td>0.000000</td>\n",
       "    </tr>\n",
       "    <tr>\n",
       "      <th>50%</th>\n",
       "      <td>196.00000</td>\n",
       "      <td>14.500000</td>\n",
       "      <td>9.0</td>\n",
       "      <td>0.200000</td>\n",
       "      <td>9.0</td>\n",
       "      <td>1.200000</td>\n",
       "      <td>9.0</td>\n",
       "      <td>71.000000</td>\n",
       "      <td>9.0</td>\n",
       "      <td>7.300000</td>\n",
       "      <td>1006.500000</td>\n",
       "      <td>9.0</td>\n",
       "      <td>0.500000</td>\n",
       "      <td>9.00000</td>\n",
       "      <td>0.200000</td>\n",
       "      <td>6.000000</td>\n",
       "      <td>2000.000000</td>\n",
       "      <td>16.000000</td>\n",
       "      <td>0.000000</td>\n",
       "    </tr>\n",
       "    <tr>\n",
       "      <th>75%</th>\n",
       "      <td>251.00000</td>\n",
       "      <td>22.700000</td>\n",
       "      <td>9.0</td>\n",
       "      <td>1.300000</td>\n",
       "      <td>9.0</td>\n",
       "      <td>2.200000</td>\n",
       "      <td>9.0</td>\n",
       "      <td>87.000000</td>\n",
       "      <td>9.0</td>\n",
       "      <td>17.100000</td>\n",
       "      <td>1014.200000</td>\n",
       "      <td>9.0</td>\n",
       "      <td>1.000000</td>\n",
       "      <td>9.00000</td>\n",
       "      <td>0.600000</td>\n",
       "      <td>9.000000</td>\n",
       "      <td>3547.000000</td>\n",
       "      <td>25.300000</td>\n",
       "      <td>0.000000</td>\n",
       "    </tr>\n",
       "    <tr>\n",
       "      <th>max</th>\n",
       "      <td>276.00000</td>\n",
       "      <td>36.500000</td>\n",
       "      <td>9.0</td>\n",
       "      <td>53.800000</td>\n",
       "      <td>9.0</td>\n",
       "      <td>12.600000</td>\n",
       "      <td>9.0</td>\n",
       "      <td>100.000000</td>\n",
       "      <td>9.0</td>\n",
       "      <td>28.300000</td>\n",
       "      <td>1032.200000</td>\n",
       "      <td>9.0</td>\n",
       "      <td>1.000000</td>\n",
       "      <td>9.00000</td>\n",
       "      <td>7.700000</td>\n",
       "      <td>10.000000</td>\n",
       "      <td>5000.000000</td>\n",
       "      <td>62.500000</td>\n",
       "      <td>9.000000</td>\n",
       "    </tr>\n",
       "  </tbody>\n",
       "</table>\n",
       "</div>"
      ],
      "text/plain": [
       "                지점        기온(°C)  기온 QC플래그      강수량(mm)  강수량 QC플래그  \\\n",
       "count  87600.00000  87583.000000      17.0  7610.000000    15519.0   \n",
       "mean     198.70000     13.234856       9.0     1.457753        9.0   \n",
       "std       53.31081     11.047893       0.0     3.464392        0.0   \n",
       "min      114.00000    -19.100000       9.0     0.000000        9.0   \n",
       "25%      146.00000      4.500000       9.0     0.000000        9.0   \n",
       "50%      196.00000     14.500000       9.0     0.200000        9.0   \n",
       "75%      251.00000     22.700000       9.0     1.300000        9.0   \n",
       "max      276.00000     36.500000       9.0    53.800000        9.0   \n",
       "\n",
       "            풍속(m/s)  풍속 QC플래그         습도(%)  습도 QC플래그     이슬점온도(°C)  \\\n",
       "count  87459.000000     106.0  87530.000000      70.0  87536.000000   \n",
       "mean       1.521800       9.0     68.695166       9.0      6.782760   \n",
       "std        1.245203       0.0     21.373931       0.0     12.069147   \n",
       "min        0.000000       9.0      2.000000       9.0    -37.400000   \n",
       "25%        0.600000       9.0     54.000000       9.0     -2.400000   \n",
       "50%        1.200000       9.0     71.000000       9.0      7.300000   \n",
       "75%        2.200000       9.0     87.000000       9.0     17.100000   \n",
       "max       12.600000       9.0    100.000000       9.0     28.300000   \n",
       "\n",
       "          현지기압(hPa)  현지기압 QC플래그        일조(hr)     일조 QC플래그  3시간신적설(cm)  \\\n",
       "count  87586.000000        14.0  47891.000000  39670.00000  186.000000   \n",
       "mean    1006.184733         9.0      0.490593      8.99879    0.594086   \n",
       "std       10.630441         0.0      0.444182      0.09838    1.047941   \n",
       "min      964.200000         9.0      0.000000      1.00000    0.000000   \n",
       "25%      999.000000         9.0      0.000000      9.00000    0.000000   \n",
       "50%     1006.500000         9.0      0.500000      9.00000    0.200000   \n",
       "75%     1014.200000         9.0      1.000000      9.00000    0.600000   \n",
       "max     1032.200000         9.0      1.000000      9.00000    7.700000   \n",
       "\n",
       "          전운량(10분위)       시정(10m)      지면온도(°C)  지면온도 QC플래그  \n",
       "count  87411.000000  87202.000000  87583.000000  313.000000  \n",
       "mean       5.165929   2383.667404     15.719229    0.488818  \n",
       "std        3.938472   1503.426741     12.704338    2.042976  \n",
       "min        0.000000      1.000000    -15.500000    0.000000  \n",
       "25%        0.000000   1293.000000      4.800000    0.000000  \n",
       "50%        6.000000   2000.000000     16.000000    0.000000  \n",
       "75%        9.000000   3547.000000     25.300000    0.000000  \n",
       "max       10.000000   5000.000000     62.500000    9.000000  "
      ]
     },
     "execution_count": 74,
     "metadata": {},
     "output_type": "execute_result"
    }
   ],
   "source": [
    "df.describe()"
   ]
  },
  {
   "cell_type": "code",
   "execution_count": 75,
   "id": "bf439b64",
   "metadata": {},
   "outputs": [],
   "source": [
    "df['일시'] = pd.to_datetime(df['일시'])"
   ]
  },
  {
   "cell_type": "code",
   "execution_count": 76,
   "id": "5c62e680",
   "metadata": {
    "scrolled": true
   },
   "outputs": [
    {
     "data": {
      "text/plain": [
       "Index(['지점', '지점명', '일시', '기온(°C)', '기온 QC플래그', '강수량(mm)', '강수량 QC플래그',\n",
       "       '풍속(m/s)', '풍속 QC플래그', '습도(%)', '습도 QC플래그', '이슬점온도(°C)', '현지기압(hPa)',\n",
       "       '현지기압 QC플래그', '일조(hr)', '일조 QC플래그', '3시간신적설(cm)', '전운량(10분위)',\n",
       "       '시정(10m)', '지면온도(°C)', '지면온도 QC플래그'],\n",
       "      dtype='object')"
      ]
     },
     "execution_count": 76,
     "metadata": {},
     "output_type": "execute_result"
    }
   ],
   "source": [
    "df.columns"
   ]
  },
  {
   "cell_type": "code",
   "execution_count": 77,
   "id": "03fcf742",
   "metadata": {
    "scrolled": true
   },
   "outputs": [
    {
     "data": {
      "text/plain": [
       "Index(['지점', '지점명', '일시', '기온(°C)', '강수량(mm)', '풍속(m/s)', '습도(%)', '이슬점온도(°C)',\n",
       "       '현지기압(hPa)', '일조(hr)', '3시간신적설(cm)', '전운량(10분위)', '시정(10m)',\n",
       "       '지면온도(°C)'],\n",
       "      dtype='object')"
      ]
     },
     "execution_count": 77,
     "metadata": {},
     "output_type": "execute_result"
    }
   ],
   "source": [
    "df.columns[[0,1,2,3,5,7,9,11,12,14,16,17,18,19]]"
   ]
  },
  {
   "cell_type": "markdown",
   "id": "7d01e304",
   "metadata": {},
   "source": [
    "# 기온"
   ]
  },
  {
   "cell_type": "code",
   "execution_count": 78,
   "id": "cfcdb5ca",
   "metadata": {},
   "outputs": [],
   "source": [
    "df_temp = df[['일시', '기온(°C)', '기온 QC플래그']].copy()\n",
    "df_temp.loc[df_temp['기온 QC플래그'].isin([1, 9]), '기온(°C)'] = None"
   ]
  },
  {
   "cell_type": "code",
   "execution_count": 79,
   "id": "5e8d6e83",
   "metadata": {},
   "outputs": [],
   "source": [
    "df_temp['일시'] = pd.to_datetime(df_temp['일시'])\n",
    "df_temp.set_index('일시', inplace=True)"
   ]
  },
  {
   "cell_type": "code",
   "execution_count": 80,
   "id": "bf7e527f",
   "metadata": {},
   "outputs": [],
   "source": [
    "df_temp['기온(°C)'] = df_temp['기온(°C)'].interpolate(method='time', order=2)"
   ]
  },
  {
   "cell_type": "code",
   "execution_count": 81,
   "id": "e055f146",
   "metadata": {},
   "outputs": [],
   "source": [
    "x1 = df['일시']\n",
    "y1 = df_temp['기온(°C)']"
   ]
  },
  {
   "cell_type": "code",
   "execution_count": 82,
   "id": "cafa82b1",
   "metadata": {},
   "outputs": [
    {
     "data": {
      "text/plain": [
       "[<matplotlib.lines.Line2D at 0x1ab49c1fc40>]"
      ]
     },
     "execution_count": 82,
     "metadata": {},
     "output_type": "execute_result"
    },
    {
     "data": {
      "image/png": "[encoded data removed]",
      "text/plain": [
       "<Figure size 640x480 with 1 Axes>"
      ]
     },
     "metadata": {},
     "output_type": "display_data"
    }
   ],
   "source": [
    "plt.plot(x1,y1)"
   ]
  },
  {
   "cell_type": "code",
   "execution_count": 83,
   "id": "7d8875b5",
   "metadata": {},
   "outputs": [],
   "source": [
    "df_temp = df_temp.reset_index()"
   ]
  },
  {
   "cell_type": "code",
   "execution_count": 84,
   "id": "d5d082f9",
   "metadata": {},
   "outputs": [],
   "source": [
    "df['기온(°C)'] = df_temp['기온(°C)']"
   ]
  },
  {
   "cell_type": "markdown",
   "id": "c870eeba",
   "metadata": {},
   "source": [
    "\n",
    "\n",
    "\n",
    "\n",
    "# 강수량"
   ]
  },
  {
   "cell_type": "code",
   "execution_count": 85,
   "id": "e853413a",
   "metadata": {},
   "outputs": [],
   "source": [
    "df_rain = df[['일시', '강수량(mm)', '강수량 QC플래그']].copy()\n",
    "df_rain.loc[df_rain['강수량 QC플래그'].isin([1, 9]), '강수량(mm)'] = None"
   ]
  },
  {
   "cell_type": "code",
   "execution_count": 86,
   "id": "3a162458",
   "metadata": {},
   "outputs": [],
   "source": [
    "# Assuming df is your DataFrame\n",
    "df_rain['일시'] = pd.to_datetime(df_rain['일시'])\n",
    "df_rain.set_index('일시', inplace=True)\n",
    "\n",
    "# Interpolate the 'precipitation (mm)' column\n",
    "df_rain['강수량(mm)'] = df_rain['강수량(mm)'].interpolate(method='time')\n",
    "\n",
    "# Replace remaining NaN values with 0\n",
    "df_rain['강수량(mm)'].fillna(0, inplace=True)"
   ]
  },
  {
   "cell_type": "code",
   "execution_count": 87,
   "id": "90f07d97",
   "metadata": {},
   "outputs": [
    {
     "data": {
      "text/plain": [
       "[<matplotlib.lines.Line2D at 0x1ab56e8bd30>]"
      ]
     },
     "execution_count": 87,
     "metadata": {},
     "output_type": "execute_result"
    },
    {
     "data": {
      "image/png": "[encoded data removed]",
      "text/plain": [
       "<Figure size 640x480 with 1 Axes>"
      ]
     },
     "metadata": {},
     "output_type": "display_data"
    }
   ],
   "source": [
    "x2 = df.index\n",
    "y2 = df_rain['강수량(mm)']\n",
    "plt.plot(x2,y2)"
   ]
  },
  {
   "cell_type": "code",
   "execution_count": 88,
   "id": "a3caf1d7",
   "metadata": {},
   "outputs": [],
   "source": [
    "df_rain = df_rain.reset_index()\n",
    "df['강수량(mm)'] = df_rain['강수량(mm)']"
   ]
  },
  {
   "cell_type": "markdown",
   "id": "62b065a1",
   "metadata": {},
   "source": [
    "# 풍속"
   ]
  },
  {
   "cell_type": "code",
   "execution_count": 89,
   "id": "698d67b8",
   "metadata": {},
   "outputs": [],
   "source": [
    "df_wind = df[['일시', '풍속(m/s)', '풍속 QC플래그']].copy()\n",
    "df_wind.loc[df_wind['풍속 QC플래그'].isin([1, 9]), '풍속(m/s)'] = None\n",
    "\n",
    "df_wind['일시'] = pd.to_datetime(df_wind['일시'])\n",
    "df_wind.set_index('일시', inplace=True)"
   ]
  },
  {
   "cell_type": "code",
   "execution_count": 90,
   "id": "b3856652",
   "metadata": {},
   "outputs": [],
   "source": [
    "df_wind['풍속(m/s)'] = df_wind['풍속(m/s)'].interpolate(method='time', order=3)"
   ]
  },
  {
   "cell_type": "code",
   "execution_count": 91,
   "id": "89f99552",
   "metadata": {},
   "outputs": [
    {
     "data": {
      "text/plain": [
       "[<matplotlib.lines.Line2D at 0x1ab59ab4a90>]"
      ]
     },
     "execution_count": 91,
     "metadata": {},
     "output_type": "execute_result"
    },
    {
     "data": {
      "image/png": "[encoded data removed]",
      "text/plain": [
       "<Figure size 640x480 with 1 Axes>"
      ]
     },
     "metadata": {},
     "output_type": "display_data"
    }
   ],
   "source": [
    "x2 = df.index\n",
    "y2 = df_wind['풍속(m/s)']\n",
    "plt.plot(x2,y2)"
   ]
  },
  {
   "cell_type": "code",
   "execution_count": 92,
   "id": "3a35a9bb",
   "metadata": {},
   "outputs": [],
   "source": [
    "df_wind = df_wind.reset_index()\n",
    "df['풍속(m/s)'] = df_wind['풍속(m/s)']"
   ]
  },
  {
   "cell_type": "markdown",
   "id": "1b146cc9",
   "metadata": {},
   "source": [
    "# 습도"
   ]
  },
  {
   "cell_type": "code",
   "execution_count": 93,
   "id": "2e4fdb1e",
   "metadata": {},
   "outputs": [],
   "source": [
    "df_humidity = df[['일시', '습도(%)', '습도 QC플래그']].copy()\n",
    "df_humidity.loc[df_humidity['습도 QC플래그'].isin([1, 9]), '습도(%)'] = None\n",
    "df_humidity['일시'] = pd.to_datetime(df_humidity['일시'])\n",
    "df_humidity.set_index('일시', inplace=True)"
   ]
  },
  {
   "cell_type": "code",
   "execution_count": 94,
   "id": "63ab969b",
   "metadata": {},
   "outputs": [],
   "source": [
    "df_humidity['습도(%)'] = df_humidity['습도(%)'].interpolate(method='time', order=5)"
   ]
  },
  {
   "cell_type": "code",
   "execution_count": 95,
   "id": "102c6a5e",
   "metadata": {},
   "outputs": [
    {
     "data": {
      "text/plain": [
       "[<matplotlib.lines.Line2D at 0x1ab59b12440>]"
      ]
     },
     "execution_count": 95,
     "metadata": {},
     "output_type": "execute_result"
    },
    {
     "data": {
      "image/png": "[encoded data removed]",
      "text/plain": [
       "<Figure size 640x480 with 1 Axes>"
      ]
     },
     "metadata": {},
     "output_type": "display_data"
    }
   ],
   "source": [
    "x2 = df.index\n",
    "y2 = df_humidity['습도(%)']\n",
    "plt.plot(x2,y2)"
   ]
  },
  {
   "cell_type": "code",
   "execution_count": 96,
   "id": "ef5ff049",
   "metadata": {},
   "outputs": [],
   "source": [
    "df_humidity = df_humidity.reset_index()\n",
    "df['습도(%)'] = df_humidity['습도(%)']"
   ]
  },
  {
   "cell_type": "markdown",
   "id": "e49813d3",
   "metadata": {},
   "source": [
    "# 이슬점 온도"
   ]
  },
  {
   "cell_type": "code",
   "execution_count": 97,
   "id": "e770f674",
   "metadata": {},
   "outputs": [],
   "source": [
    "df_dew = df[['일시', '이슬점온도(°C)']].copy()"
   ]
  },
  {
   "cell_type": "code",
   "execution_count": 98,
   "id": "9729b221",
   "metadata": {},
   "outputs": [],
   "source": [
    "# Assuming df is your DataFrame\n",
    "df_dew['일시'] = pd.to_datetime(df_dew['일시'])\n",
    "df_dew.set_index('일시', inplace=True)\n",
    "\n",
    "\n",
    "df_dew['이슬점온도(°C)'] = df_dew['이슬점온도(°C)'].interpolate(method='time', order = 5)"
   ]
  },
  {
   "cell_type": "code",
   "execution_count": 99,
   "id": "e4729fa4",
   "metadata": {},
   "outputs": [
    {
     "data": {
      "text/plain": [
       "[<matplotlib.lines.Line2D at 0x1ab56dca6b0>]"
      ]
     },
     "execution_count": 99,
     "metadata": {},
     "output_type": "execute_result"
    },
    {
     "data": {
      "image/png": "[encoded data removed]",
      "text/plain": [
       "<Figure size 640x480 with 1 Axes>"
      ]
     },
     "metadata": {},
     "output_type": "display_data"
    }
   ],
   "source": [
    "x = df.index\n",
    "y = df_dew['이슬점온도(°C)']\n",
    "plt.plot(x2,y2)"
   ]
  },
  {
   "cell_type": "code",
   "execution_count": 100,
   "id": "8e669fd8",
   "metadata": {},
   "outputs": [],
   "source": [
    "df_dew = df_dew.reset_index()\n",
    "df['이슬점온도(°C)'] = df_dew['이슬점온도(°C)']"
   ]
  },
  {
   "cell_type": "markdown",
   "id": "c7fdd298",
   "metadata": {},
   "source": [
    "# 현지기압"
   ]
  },
  {
   "cell_type": "code",
   "execution_count": 101,
   "id": "89eaa978",
   "metadata": {},
   "outputs": [],
   "source": [
    "df_airpress = df[['일시', '현지기압(hPa)', '현지기압 QC플래그']].copy()"
   ]
  },
  {
   "cell_type": "code",
   "execution_count": 102,
   "id": "1b5f3fc2",
   "metadata": {},
   "outputs": [],
   "source": [
    "df_airpress.loc[df_airpress['현지기압 QC플래그'].isin([1, 9]), '습도(%)'] = None\n"
   ]
  },
  {
   "cell_type": "code",
   "execution_count": 103,
   "id": "beaed018",
   "metadata": {},
   "outputs": [],
   "source": [
    "# Assuming df is your DataFrame\n",
    "df_airpress['일시'] = pd.to_datetime(df_airpress['일시'])\n",
    "df_airpress.set_index('일시', inplace=True)\n",
    "\n",
    "\n",
    "df_airpress['현지기압(hPa)'] = df_airpress['현지기압(hPa)'].interpolate(method='time')"
   ]
  },
  {
   "cell_type": "code",
   "execution_count": 104,
   "id": "9baad689",
   "metadata": {},
   "outputs": [
    {
     "data": {
      "text/plain": [
       "[<matplotlib.lines.Line2D at 0x1ab2ae469b0>]"
      ]
     },
     "execution_count": 104,
     "metadata": {},
     "output_type": "execute_result"
    },
    {
     "data": {
      "image/png": "[encoded data removed]",
      "text/plain": [
       "<Figure size 640x480 with 1 Axes>"
      ]
     },
     "metadata": {},
     "output_type": "display_data"
    }
   ],
   "source": [
    "x = df_airpress.index\n",
    "y = df_airpress['현지기압(hPa)']\n",
    "plt.plot(x,y)"
   ]
  },
  {
   "cell_type": "code",
   "execution_count": 105,
   "id": "d88e8172",
   "metadata": {},
   "outputs": [],
   "source": [
    "df_airpress = df_airpress.reset_index()\n",
    "df['현지기압(hPa)'] = df_airpress['현지기압(hPa)']"
   ]
  },
  {
   "cell_type": "markdown",
   "id": "26e0f2b1",
   "metadata": {},
   "source": [
    "# 일조"
   ]
  },
  {
   "cell_type": "code",
   "execution_count": 106,
   "id": "54b77005",
   "metadata": {
    "scrolled": true
   },
   "outputs": [
    {
     "data": {
      "text/plain": [
       "Index(['지점', '지점명', '일시', '기온(°C)', '강수량(mm)', '풍속(m/s)', '습도(%)', '이슬점온도(°C)',\n",
       "       '현지기압(hPa)', '일조(hr)', '3시간신적설(cm)', '전운량(10분위)', '시정(10m)',\n",
       "       '지면온도(°C)'],\n",
       "      dtype='object')"
      ]
     },
     "execution_count": 106,
     "metadata": {},
     "output_type": "execute_result"
    }
   ],
   "source": [
    "df.columns[[0,1,2,3,5,7,9,11,12,14,16,17,18,19]]"
   ]
  },
  {
   "cell_type": "code",
   "execution_count": 107,
   "id": "da5d5fdb",
   "metadata": {},
   "outputs": [],
   "source": [
    "df_sun = df[['일시', '일조(hr)', '일조 QC플래그']].copy()"
   ]
  },
  {
   "cell_type": "code",
   "execution_count": 108,
   "id": "81535a11",
   "metadata": {},
   "outputs": [],
   "source": [
    "# First, make sure 'Date' is in datetime format\n",
    "df_sun['일시'] = pd.to_datetime(df_sun['일시'])\n",
    "\n",
    "# Set index to 'Date' for interpolation\n",
    "df_sun.set_index('일시', inplace=True)\n",
    "\n",
    "# Interpolate 'Day(hr)' values where 'Daylight QC Flag' equals 1\n",
    "df_sun.loc[df_sun['일조 QC플래그'] == 1, '일조(hr)'] = df_sun.loc[df_sun['일조 QC플래그'] == 1, '일조(hr)'].interpolate(method='time')\n",
    "\n",
    "# Reset index after interpolation\n",
    "df_sun.reset_index(inplace=True)\n",
    "\n",
    "# Change 'Day(hr)' to 0 where 'Daylight QC Flag' equals 9\n",
    "df_sun.loc[df_sun['일조 QC플래그'] == 9 , '일조(hr)'] = 0"
   ]
  },
  {
   "cell_type": "code",
   "execution_count": 109,
   "id": "75af6ed8",
   "metadata": {},
   "outputs": [],
   "source": [
    "# First, make sure 'Date' is in datetime format\n",
    "df_sun['일시'] = pd.to_datetime(df_sun['일시'])\n",
    "\n",
    "# Set index to 'Date' for interpolation\n",
    "df_sun.set_index('일시', inplace=True)\n",
    "\n",
    "# Create mask for time range between 08:00 and 18:00\n",
    "mask = (df_sun.index.time >= pd.to_datetime('08:00:00').time()) & (df_sun.index.time <= pd.to_datetime('18:00:00').time())\n",
    "\n",
    "# Interpolate 'Day(hr)' values where time is between 08:00 and 18:00\n",
    "df_sun.loc[mask, '일조(hr)'] = df_sun.loc[mask, '일조(hr)'].interpolate(method='time')\n",
    "\n",
    "# Change 'Day(hr)' to 0 where time is outside 08:00 to 18:00\n",
    "df_sun.loc[~mask, '일조(hr)'] = 0\n",
    "\n",
    "# Reset index after operation\n",
    "df_sun.reset_index(inplace=True)"
   ]
  },
  {
   "cell_type": "code",
   "execution_count": 110,
   "id": "9be49e48",
   "metadata": {},
   "outputs": [
    {
     "name": "stdout",
     "output_type": "stream",
     "text": [
      "Hour\n",
      "0     3650\n",
      "1     3650\n",
      "2     3650\n",
      "3     3650\n",
      "4     3650\n",
      "5     3650\n",
      "6     3650\n",
      "7     3650\n",
      "8     1990\n",
      "9     1202\n",
      "10     943\n",
      "11     790\n",
      "12     732\n",
      "13     713\n",
      "14     701\n",
      "15     721\n",
      "16     819\n",
      "17    1000\n",
      "18    1674\n",
      "19    3650\n",
      "20    3650\n",
      "21    3650\n",
      "22    3650\n",
      "23    3650\n",
      "dtype: int64\n"
     ]
    }
   ],
   "source": [
    "# Ensure 'Date' is in datetime format\n",
    "df_sun['일시'] = pd.to_datetime(df_sun['일시'])\n",
    "\n",
    "# Create a new column 'Hour' based on the 'Date' column\n",
    "df_sun['Hour'] = df_sun['일시'].dt.hour\n",
    "\n",
    "# Create a mask for 'Day(hr)' values that are 0\n",
    "mask = df_sun['일조(hr)'] == 0\n",
    "\n",
    "# Count the number of 'Day(hr)' values that are 0 for each hour\n",
    "zero_sun_counts = df_sun.loc[mask].groupby('Hour').size()\n",
    "\n",
    "print(zero_sun_counts)"
   ]
  },
  {
   "cell_type": "code",
   "execution_count": 111,
   "id": "e87784bf",
   "metadata": {},
   "outputs": [
    {
     "data": {
      "text/plain": [
       "[<matplotlib.lines.Line2D at 0x1ab56de3940>]"
      ]
     },
     "execution_count": 111,
     "metadata": {},
     "output_type": "execute_result"
    },
    {
     "data": {
      "image/png": "[encoded data removed]",
      "text/plain": [
       "<Figure size 640x480 with 1 Axes>"
      ]
     },
     "metadata": {},
     "output_type": "display_data"
    }
   ],
   "source": [
    "x = df_sun.index\n",
    "y = df_sun['일조(hr)']\n",
    "plt.plot(x,y)"
   ]
  },
  {
   "cell_type": "code",
   "execution_count": 112,
   "id": "b2f7406c",
   "metadata": {},
   "outputs": [],
   "source": [
    "df_sun = df_sun.reset_index()\n",
    "df['일조(hr)'] = df_sun['일조(hr)']"
   ]
  },
  {
   "cell_type": "markdown",
   "id": "4f27515b",
   "metadata": {},
   "source": [
    "# 3시간신적설"
   ]
  },
  {
   "cell_type": "code",
   "execution_count": 113,
   "id": "3636f5dc",
   "metadata": {},
   "outputs": [
    {
     "data": {
      "text/plain": [
       "Index(['지점', '지점명', '일시', '기온(°C)', '강수량(mm)', '풍속(m/s)', '습도(%)', '이슬점온도(°C)',\n",
       "       '현지기압(hPa)', '일조(hr)', '3시간신적설(cm)', '전운량(10분위)', '시정(10m)',\n",
       "       '지면온도(°C)'],\n",
       "      dtype='object')"
      ]
     },
     "execution_count": 113,
     "metadata": {},
     "output_type": "execute_result"
    }
   ],
   "source": [
    "df.columns[[0,1,2,3,5,7,9,11,12,14,16,17,18,19]]"
   ]
  },
  {
   "cell_type": "code",
   "execution_count": 114,
   "id": "c7e077a2",
   "metadata": {},
   "outputs": [],
   "source": [
    "df_snow = df[['일시', '3시간신적설(cm)']].copy()"
   ]
  },
  {
   "cell_type": "code",
   "execution_count": 115,
   "id": "170491ee",
   "metadata": {},
   "outputs": [],
   "source": [
    "df_snow['3시간신적설(cm)'] = df_snow['3시간신적설(cm)'].fillna(0)"
   ]
  },
  {
   "cell_type": "code",
   "execution_count": 116,
   "id": "9a40b943",
   "metadata": {},
   "outputs": [
    {
     "name": "stdout",
     "output_type": "stream",
     "text": [
      "Month\n",
      "1     21\n",
      "2     22\n",
      "11     1\n",
      "12    81\n",
      "dtype: int64\n"
     ]
    }
   ],
   "source": [
    "df_snow = df_snow.reset_index()\n",
    "\n",
    "# Ensure 'Date' is in datetime format\n",
    "df_snow['일시'] = pd.to_datetime(df_snow['일시'])\n",
    "\n",
    "\n",
    "# Create a new column 'Hour' based on the 'Date' column\n",
    "df_snow['Month'] = df_snow['일시'].dt.month\n",
    "\n",
    "# Create a mask for 'Day(hr)' values that are 0\n",
    "mask = df_snow['3시간신적설(cm)'] != 0\n",
    "\n",
    "# Count the number of 'Day(hr)' values that are 0 for each hour\n",
    "zero_sun_counts = df_snow.loc[mask].groupby('Month').size()\n",
    "\n",
    "print(zero_sun_counts)"
   ]
  },
  {
   "cell_type": "code",
   "execution_count": 117,
   "id": "b0651e96",
   "metadata": {},
   "outputs": [
    {
     "data": {
      "text/plain": [
       "[<matplotlib.lines.Line2D at 0x1ab5f23cd00>]"
      ]
     },
     "execution_count": 117,
     "metadata": {},
     "output_type": "execute_result"
    },
    {
     "data": {
      "image/png": "[encoded data removed]",
      "text/plain": [
       "<Figure size 640x480 with 1 Axes>"
      ]
     },
     "metadata": {},
     "output_type": "display_data"
    }
   ],
   "source": [
    "x = df.index\n",
    "y = df_snow['3시간신적설(cm)']\n",
    "plt.plot(x,y)"
   ]
  },
  {
   "cell_type": "code",
   "execution_count": 118,
   "id": "7457a7ff",
   "metadata": {},
   "outputs": [],
   "source": [
    "df_snow = df_snow.reset_index()\n",
    "df['3시간신적설(cm)'] = df_snow['3시간신적설(cm)']"
   ]
  },
  {
   "cell_type": "markdown",
   "id": "d3b86cca",
   "metadata": {},
   "source": [
    "# 전운량"
   ]
  },
  {
   "cell_type": "code",
   "execution_count": 119,
   "id": "929f46fd",
   "metadata": {},
   "outputs": [
    {
     "data": {
      "text/plain": [
       "Index(['지점', '지점명', '일시', '기온(°C)', '강수량(mm)', '풍속(m/s)', '습도(%)', '이슬점온도(°C)',\n",
       "       '현지기압(hPa)', '일조(hr)', '3시간신적설(cm)', '전운량(10분위)', '시정(10m)',\n",
       "       '지면온도(°C)'],\n",
       "      dtype='object')"
      ]
     },
     "execution_count": 119,
     "metadata": {},
     "output_type": "execute_result"
    }
   ],
   "source": [
    "df.columns[[0,1,2,3,5,7,9,11,12,14,16,17,18,19]]"
   ]
  },
  {
   "cell_type": "code",
   "execution_count": 120,
   "id": "71358355",
   "metadata": {},
   "outputs": [],
   "source": [
    "df_cloud = df[['일시', '지점', '전운량(10분위)']].copy()"
   ]
  },
  {
   "cell_type": "code",
   "execution_count": 121,
   "id": "a66e5e25",
   "metadata": {},
   "outputs": [],
   "source": [
    "from scipy import stats"
   ]
  },
  {
   "cell_type": "code",
   "execution_count": 122,
   "id": "c003103b",
   "metadata": {},
   "outputs": [
    {
     "name": "stderr",
     "output_type": "stream",
     "text": [
      "C:\\Users\\PC\\AppData\\Local\\Temp\\ipykernel_14904\\3724579479.py:12: FutureWarning: Unlike other reduction functions (e.g. `skew`, `kurtosis`), the default behavior of `mode` typically preserves the axis it acts along. In SciPy 1.11.0, this behavior will change: the default value of `keepdims` will become False, the `axis` over which the statistic is taken will be eliminated, and the value None will no longer be accepted. Set `keepdims` to True or False to avoid this warning.\n",
      "  mode = stats.mode(two_hours_range['전운량(10분위)'].dropna())[0][0]\n"
     ]
    }
   ],
   "source": [
    "# 일시를 datetime으로 변환\n",
    "df_cloud['일시'] = pd.to_datetime(df_cloud['일시'])\n",
    "\n",
    "# 지점과 일시로 정렬\n",
    "df_cloud.sort_values(['지점', '일시'], inplace=True)\n",
    "\n",
    "# 같은 지점의 전후 2시간 데이터의 최빈값으로 결측치 채우기\n",
    "for i, row in df_cloud[df_cloud['전운량(10분위)'].isna()].iterrows():\n",
    "    same_station = df_cloud[df_cloud['지점'] == row['지점']]\n",
    "    two_hours_range = same_station[(same_station['일시'] >= row['일시'] - pd.Timedelta(hours=2)) & (same_station['일시'] <= row['일시'] + pd.Timedelta(hours=2))]\n",
    "    if not two_hours_range['전운량(10분위)'].isna().all():  # 전후 2시간 동안의 데이터가 모두 결측치가 아니라면\n",
    "        mode = stats.mode(two_hours_range['전운량(10분위)'].dropna())[0][0]\n",
    "        df_cloud.loc[i, '전운량(10분위)'] = mode\n",
    "\n",
    "# 같은 시간의 다른 지점들의 전운량의 평균값으로 결측치 채우기\n",
    "for i, row in df_cloud[df_cloud['전운량(10분위)'].isna()].iterrows():\n",
    "    same_time = df_cloud[df_cloud['일시'] == row['일시']]\n",
    "    if not same_time['전운량(10분위)'].isna().all():  # 같은 시간의 다른 지점들의 데이터가 모두 결측치가 아니라면\n",
    "        mean = same_time['전운량(10분위)'].mean()\n",
    "        df_cloud.loc[i, '전운량(10분위)'] = mean"
   ]
  },
  {
   "cell_type": "code",
   "execution_count": 123,
   "id": "39dad4b7",
   "metadata": {},
   "outputs": [
    {
     "data": {
      "text/plain": [
       "Series([], Name: 전운량(10분위), dtype: float64)"
      ]
     },
     "execution_count": 123,
     "metadata": {},
     "output_type": "execute_result"
    }
   ],
   "source": [
    "df_cloud['전운량(10분위)'][df_cloud['전운량(10분위)'].isna()]"
   ]
  },
  {
   "cell_type": "code",
   "execution_count": 124,
   "id": "e699525d",
   "metadata": {},
   "outputs": [
    {
     "data": {
      "text/plain": [
       "[<matplotlib.lines.Line2D at 0x1ab56c13f10>]"
      ]
     },
     "execution_count": 124,
     "metadata": {},
     "output_type": "execute_result"
    },
    {
     "data": {
      "image/png": "[encoded data removed]",
      "text/plain": [
       "<Figure size 640x480 with 1 Axes>"
      ]
     },
     "metadata": {},
     "output_type": "display_data"
    }
   ],
   "source": [
    "x = df.index\n",
    "y = df_cloud['전운량(10분위)']\n",
    "plt.plot(x,y)"
   ]
  },
  {
   "cell_type": "code",
   "execution_count": 125,
   "id": "4561c5fd",
   "metadata": {},
   "outputs": [],
   "source": [
    "df['전운량(10분위)'] = df_cloud['전운량(10분위)']"
   ]
  },
  {
   "cell_type": "markdown",
   "id": "5199a2fb",
   "metadata": {},
   "source": [
    "# 시정"
   ]
  },
  {
   "cell_type": "code",
   "execution_count": 126,
   "id": "29e16eda",
   "metadata": {},
   "outputs": [],
   "source": [
    "df_sight = df[['일시', '지점', '시정(10m)']].copy()"
   ]
  },
  {
   "cell_type": "code",
   "execution_count": 127,
   "id": "c977c809",
   "metadata": {},
   "outputs": [
    {
     "name": "stderr",
     "output_type": "stream",
     "text": [
      "C:\\Users\\PC\\AppData\\Local\\Temp\\ipykernel_14904\\1041079955.py:12: FutureWarning: Unlike other reduction functions (e.g. `skew`, `kurtosis`), the default behavior of `mode` typically preserves the axis it acts along. In SciPy 1.11.0, this behavior will change: the default value of `keepdims` will become False, the `axis` over which the statistic is taken will be eliminated, and the value None will no longer be accepted. Set `keepdims` to True or False to avoid this warning.\n",
      "  mode = stats.mode(two_hours_range['시정(10m)'].dropna())[0][0]\n"
     ]
    }
   ],
   "source": [
    "# 일시를 datetime으로 변환\n",
    "df_sight['일시'] = pd.to_datetime(df_sight['일시'])\n",
    "\n",
    "# 지점과 일시로 정렬\n",
    "df_sight.sort_values(['지점', '일시'], inplace=True)\n",
    "\n",
    "# 같은 지점의 전후 2시간 데이터의 최빈값으로 결측치 채우기\n",
    "for i, row in df_sight[df_sight['시정(10m)'].isna()].iterrows():\n",
    "    same_station = df_sight[df_sight['지점'] == row['지점']]\n",
    "    two_hours_range = same_station[(same_station['일시'] >= row['일시'] - pd.Timedelta(hours=2)) & (same_station['일시'] <= row['일시'] + pd.Timedelta(hours=2))]\n",
    "    if not two_hours_range['시정(10m)'].isna().all():  # 전후 2시간 동안의 데이터가 모두 결측치가 아니라면\n",
    "        mode = stats.mode(two_hours_range['시정(10m)'].dropna())[0][0]\n",
    "        df_sight.loc[i,'시정(10m)'] = mode\n",
    "\n",
    "# 같은 시간의 다른 지점들의 전운량의 평균값으로 결측치 채우기\n",
    "for i, row in df_sight[df_sight['시정(10m)'].isna()].iterrows():\n",
    "    same_time = df_sight[df_sight['일시'] == row['일시']]\n",
    "    if not same_time['시정(10m)'].isna().all():  # 같은 시간의 다른 지점들의 데이터가 모두 결측치가 아니라면\n",
    "        mean = same_time['시정(10m)'].mean()\n",
    "        df_sight.loc[i, '시정(10m)'] = mean"
   ]
  },
  {
   "cell_type": "code",
   "execution_count": 128,
   "id": "adad4485",
   "metadata": {
    "scrolled": true
   },
   "outputs": [
    {
     "data": {
      "text/plain": [
       "0"
      ]
     },
     "execution_count": 128,
     "metadata": {},
     "output_type": "execute_result"
    }
   ],
   "source": [
    "sum(df_sight['시정(10m)'].isnull())"
   ]
  },
  {
   "cell_type": "code",
   "execution_count": 129,
   "id": "dfea9862",
   "metadata": {},
   "outputs": [],
   "source": [
    "df['시정(10m)'] = df_sight['시정(10m)']"
   ]
  },
  {
   "cell_type": "markdown",
   "id": "4391d83e",
   "metadata": {},
   "source": [
    "# 지면 온도"
   ]
  },
  {
   "cell_type": "code",
   "execution_count": 130,
   "id": "b09cf95a",
   "metadata": {},
   "outputs": [],
   "source": [
    "df_ground = df[['일시', '지면온도(°C)', '지면온도 QC플래그']].copy()\n",
    "\n",
    "# Assuming df is your DataFrame\n",
    "df_ground['일시'] = pd.to_datetime(df_ground['일시'])\n",
    "df_ground.set_index('일시', inplace=True)\n",
    "\n",
    "df_ground['지면온도(°C)'] = df_ground['지면온도(°C)'].interpolate(method='time', order = 5)"
   ]
  },
  {
   "cell_type": "code",
   "execution_count": 131,
   "id": "dce76404",
   "metadata": {},
   "outputs": [
    {
     "data": {
      "text/plain": [
       "[<matplotlib.lines.Line2D at 0x1ab56cf8e80>]"
      ]
     },
     "execution_count": 131,
     "metadata": {},
     "output_type": "execute_result"
    },
    {
     "data": {
      "image/png": "[encoded data removed]",
      "text/plain": [
       "<Figure size 640x480 with 1 Axes>"
      ]
     },
     "metadata": {},
     "output_type": "display_data"
    }
   ],
   "source": [
    "x = df_ground.index\n",
    "y = df_ground['지면온도(°C)']\n",
    "plt.plot(x,y)\n"
   ]
  },
  {
   "cell_type": "code",
   "execution_count": 132,
   "id": "2411d456",
   "metadata": {},
   "outputs": [],
   "source": [
    "df_ground = df_ground.reset_index()\n",
    "df['지면온도(°C)'] = df_ground['지면온도(°C)']"
   ]
  },
  {
   "cell_type": "code",
   "execution_count": 133,
   "id": "00fdf83b",
   "metadata": {},
   "outputs": [
    {
     "data": {
      "text/plain": [
       "Index(['지점', '지점명', '일시', '기온(°C)', '강수량(mm)', '풍속(m/s)', '습도(%)', '이슬점온도(°C)',\n",
       "       '현지기압(hPa)', '일조(hr)', '3시간신적설(cm)', '전운량(10분위)', '시정(10m)',\n",
       "       '지면온도(°C)'],\n",
       "      dtype='object')"
      ]
     },
     "execution_count": 133,
     "metadata": {},
     "output_type": "execute_result"
    }
   ],
   "source": [
    "df.columns[[0,1,2,3,5,7,9,11,12,14,16,17,18,19]]"
   ]
  },
  {
   "cell_type": "code",
   "execution_count": 134,
   "id": "93be6584",
   "metadata": {},
   "outputs": [],
   "source": [
    "data = df[['지점','일시', '기온(°C)', '강수량(mm)', '풍속(m/s)', '습도(%)', '이슬점온도(°C)','현지기압(hPa)', '일조(hr)', '3시간신적설(cm)', '전운량(10분위)', '시정(10m)', '지면온도(°C)']]"
   ]
  },
  {
   "cell_type": "code",
   "execution_count": 135,
   "id": "71a8ddac",
   "metadata": {},
   "outputs": [],
   "source": [
    "cols = ['기온(°C)', '강수량(mm)', '풍속(m/s)', '습도(%)', '이슬점온도(°C)','현지기압(hPa)', '일조(hr)', '3시간신적설(cm)', '전운량(10분위)', '시정(10m)', '지면온도(°C)']"
   ]
  },
  {
   "cell_type": "code",
   "execution_count": 136,
   "id": "184fcfe2",
   "metadata": {},
   "outputs": [
    {
     "name": "stdout",
     "output_type": "stream",
     "text": [
      "0\n",
      "0\n",
      "0\n",
      "0\n",
      "0\n",
      "0\n",
      "0\n",
      "0\n",
      "0\n",
      "0\n",
      "0\n"
     ]
    }
   ],
   "source": [
    "for col in cols:\n",
    "    print(sum(data[col].isnull()))"
   ]
  },
  {
   "cell_type": "code",
   "execution_count": 137,
   "id": "807c3ae4",
   "metadata": {},
   "outputs": [],
   "source": [
    "data.to_csv(\"Test_data.csv\")"
   ]
  },
  {
   "cell_type": "code",
   "execution_count": null,
   "id": "e6bc1f8c",
   "metadata": {},
   "outputs": [],
   "source": []
  }
 ],
 "metadata": {
  "kernelspec": {
   "display_name": "Python 3 (ipykernel)",
   "language": "python",
   "name": "python3"
  },
  "language_info": {
   "codemirror_mode": {
    "name": "ipython",
    "version": 3
   },
   "file_extension": ".py",
   "mimetype": "text/x-python",
   "name": "python",
   "nbconvert_exporter": "python",
   "pygments_lexer": "ipython3",
   "version": "3.10.9"
  }
 },
 "nbformat": 4,
 "nbformat_minor": 5
}
