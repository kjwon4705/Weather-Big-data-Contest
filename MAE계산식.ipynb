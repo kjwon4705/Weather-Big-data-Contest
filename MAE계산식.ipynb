{
 "cells": [
  {
   "cell_type": "code",
   "execution_count": 1,
   "id": "815c6dc8",
   "metadata": {},
   "outputs": [],
   "source": [
    "import pandas as pd\n",
    "import numpy as np\n",
    "from sklearn.metrics import mean_absolute_error"
   ]
  },
  {
   "cell_type": "code",
   "execution_count": 9,
   "id": "eb3f6af2",
   "metadata": {
    "scrolled": false
   },
   "outputs": [],
   "source": [
    "pred = pd.read_csv(\"TS_pred.csv\")\n",
    "test = pd.read_csv(\"Temperature.csv\")"
   ]
  },
  {
   "cell_type": "code",
   "execution_count": 13,
   "id": "71f328c7",
   "metadata": {},
   "outputs": [],
   "source": [
    "TS_pred = pred['TS']\n",
    "TS_test = test['TS']"
   ]
  },
  {
   "cell_type": "code",
   "execution_count": 14,
   "id": "6dc07a81",
   "metadata": {},
   "outputs": [],
   "source": [
    "mae = mean_absolute_error(TS_pred, TS_test)"
   ]
  },
  {
   "cell_type": "code",
   "execution_count": 15,
   "id": "6b992e82",
   "metadata": {},
   "outputs": [
    {
     "data": {
      "text/plain": [
       "0.5"
      ]
     },
     "execution_count": 15,
     "metadata": {},
     "output_type": "execute_result"
    }
   ],
   "source": [
    "mae"
   ]
  },
  {
   "cell_type": "code",
   "execution_count": null,
   "id": "7471f251",
   "metadata": {},
   "outputs": [],
   "source": []
  }
 ],
 "metadata": {
  "kernelspec": {
   "display_name": "Python 3 (ipykernel)",
   "language": "python",
   "name": "python3"
  },
  "language_info": {
   "codemirror_mode": {
    "name": "ipython",
    "version": 3
   },
   "file_extension": ".py",
   "mimetype": "text/x-python",
   "name": "python",
   "nbconvert_exporter": "python",
   "pygments_lexer": "ipython3",
   "version": "3.10.9"
  }
 },
 "nbformat": 4,
 "nbformat_minor": 5
}
