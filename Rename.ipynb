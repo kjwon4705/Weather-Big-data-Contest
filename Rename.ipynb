{
 "cells": [
  {
   "cell_type": "code",
   "execution_count": 1,
   "id": "e49b35cc",
   "metadata": {},
   "outputs": [],
   "source": [
    "import os\n",
    "\n",
    "def list_files_recursive(directory):\n",
    "    file_list = []  # 파일 이름을 저장할 빈 리스트를 생성\n",
    "    for root, dirs, files in os.walk(directory):\n",
    "        for name in files:\n",
    "            file_list.append(os.path.join(root, name))  # 리스트에 파일 이름 추가\n",
    "    return file_list  # 리스트 반환\n",
    "\n",
    "# 사용 예:\n",
    "directory = \"./Test\" \n",
    "test_col = list_files_recursive(directory)"
   ]
  },
  {
   "cell_type": "code",
   "execution_count": 2,
   "id": "c22b7d35",
   "metadata": {},
   "outputs": [],
   "source": [
    "rename_col = ['STN', 'Date', 'Temperature','Precipitation','Wind_speed', 'Humidity','Dew_point', 'Local_pressure', 'Sunlight','Three_Hours_Snow','Cumulus', 'Sight', 'TC', 'Season']"
   ]
  },
  {
   "cell_type": "code",
   "execution_count": 7,
   "id": "92a3301b",
   "metadata": {},
   "outputs": [],
   "source": [
    "import pandas as pd\n",
    "import os\n",
    "\n",
    "def rename_all_columns_in_files(directory, new_colnames):\n",
    "    for root, dirs, files in os.walk(directory):\n",
    "        for name in files:\n",
    "            if name.endswith('.csv'):  # CSV 파일만 처리\n",
    "                file_path = os.path.join(root, name)\n",
    "                df = pd.read_csv(file_path, encoding = 'cp949')\n",
    "                df.columns = new_colnames  # 모든 열 이름 변경\n",
    "                df.to_csv(file_path, index=False)  # 변경된 DataFrame을 다시 파일로 저장\n"
   ]
  },
  {
   "cell_type": "code",
   "execution_count": 8,
   "id": "9c396256",
   "metadata": {},
   "outputs": [],
   "source": [
    "directory = \"./Test\"\n",
    "new_colnames = rename_col\n",
    "rename_all_columns_in_files(directory, new_colnames)\n"
   ]
  },
  {
   "cell_type": "code",
   "execution_count": null,
   "id": "64d85921",
   "metadata": {},
   "outputs": [],
   "source": []
  }
 ],
 "metadata": {
  "kernelspec": {
   "display_name": "Python 3 (ipykernel)",
   "language": "python",
   "name": "python3"
  },
  "language_info": {
   "codemirror_mode": {
    "name": "ipython",
    "version": 3
   },
   "file_extension": ".py",
   "mimetype": "text/x-python",
   "name": "python",
   "nbconvert_exporter": "python",
   "pygments_lexer": "ipython3",
   "version": "3.10.9"
  }
 },
 "nbformat": 4,
 "nbformat_minor": 5
}
